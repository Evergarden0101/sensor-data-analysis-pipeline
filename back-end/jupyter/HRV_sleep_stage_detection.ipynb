{
 "cells": [
  {
   "cell_type": "code",
   "execution_count": 2,
   "metadata": {},
   "outputs": [],
   "source": [
    "import pandas as pd \n",
    "import matplotlib.pyplot as plt\n",
    "import datetime\n",
    "import neurokit2 as nk\n",
    "import numpy as np\n",
    "%matplotlib inline"
   ]
  },
  {
   "cell_type": "code",
   "execution_count": 3,
   "metadata": {},
   "outputs": [],
   "source": [
    "SAMPLING_RATE = 1000"
   ]
  },
  {
   "cell_type": "code",
   "execution_count": 4,
   "metadata": {},
   "outputs": [],
   "source": [
    "df = pd.read_csv('../data/1222325cFnorm.csv')"
   ]
  },
  {
   "cell_type": "code",
   "execution_count": 5,
   "metadata": {},
   "outputs": [],
   "source": [
    "ecg = df[\"ECG\"].values.tolist()"
   ]
  },
  {
   "cell_type": "markdown",
   "metadata": {},
   "source": [
    "### Downsample the data"
   ]
  },
  {
   "cell_type": "code",
   "execution_count": 6,
   "metadata": {},
   "outputs": [],
   "source": [
    "ecg_ds = nk.signal_resample(ecg, sampling_rate=2000, desired_sampling_rate=SAMPLING_RATE)"
   ]
  },
  {
   "cell_type": "code",
   "execution_count": 7,
   "metadata": {},
   "outputs": [],
   "source": [
    "ecg_df = pd.DataFrame(ecg_ds, columns=['ECG'])"
   ]
  },
  {
   "cell_type": "code",
   "execution_count": 8,
   "metadata": {},
   "outputs": [
    {
     "data": {
      "text/html": [
       "<div>\n",
       "<style scoped>\n",
       "    .dataframe tbody tr th:only-of-type {\n",
       "        vertical-align: middle;\n",
       "    }\n",
       "\n",
       "    .dataframe tbody tr th {\n",
       "        vertical-align: top;\n",
       "    }\n",
       "\n",
       "    .dataframe thead th {\n",
       "        text-align: right;\n",
       "    }\n",
       "</style>\n",
       "<table border=\"1\" class=\"dataframe\">\n",
       "  <thead>\n",
       "    <tr style=\"text-align: right;\">\n",
       "      <th></th>\n",
       "      <th>ECG</th>\n",
       "    </tr>\n",
       "  </thead>\n",
       "  <tbody>\n",
       "    <tr>\n",
       "      <th>0</th>\n",
       "      <td>0.015600</td>\n",
       "    </tr>\n",
       "    <tr>\n",
       "      <th>1</th>\n",
       "      <td>0.015573</td>\n",
       "    </tr>\n",
       "    <tr>\n",
       "      <th>2</th>\n",
       "      <td>0.015637</td>\n",
       "    </tr>\n",
       "    <tr>\n",
       "      <th>3</th>\n",
       "      <td>0.015685</td>\n",
       "    </tr>\n",
       "    <tr>\n",
       "      <th>4</th>\n",
       "      <td>0.015700</td>\n",
       "    </tr>\n",
       "    <tr>\n",
       "      <th>...</th>\n",
       "      <td>...</td>\n",
       "    </tr>\n",
       "    <tr>\n",
       "      <th>35331833</th>\n",
       "      <td>-0.000582</td>\n",
       "    </tr>\n",
       "    <tr>\n",
       "      <th>35331834</th>\n",
       "      <td>-0.000804</td>\n",
       "    </tr>\n",
       "    <tr>\n",
       "      <th>35331835</th>\n",
       "      <td>-0.000689</td>\n",
       "    </tr>\n",
       "    <tr>\n",
       "      <th>35331836</th>\n",
       "      <td>-0.000695</td>\n",
       "    </tr>\n",
       "    <tr>\n",
       "      <th>35331837</th>\n",
       "      <td>-0.000483</td>\n",
       "    </tr>\n",
       "  </tbody>\n",
       "</table>\n",
       "<p>35331838 rows × 1 columns</p>\n",
       "</div>"
      ],
      "text/plain": [
       "               ECG\n",
       "0         0.015600\n",
       "1         0.015573\n",
       "2         0.015637\n",
       "3         0.015685\n",
       "4         0.015700\n",
       "...            ...\n",
       "35331833 -0.000582\n",
       "35331834 -0.000804\n",
       "35331835 -0.000689\n",
       "35331836 -0.000695\n",
       "35331837 -0.000483\n",
       "\n",
       "[35331838 rows x 1 columns]"
      ]
     },
     "execution_count": 8,
     "metadata": {},
     "output_type": "execute_result"
    }
   ],
   "source": [
    "ecg_df"
   ]
  },
  {
   "cell_type": "code",
   "execution_count": 9,
   "metadata": {},
   "outputs": [],
   "source": [
    "# Take first n minutes\n",
    "minutes = 15\n",
    "\n",
    "n = minutes*60*SAMPLING_RATE\n",
    "df = ecg_df[:n]"
   ]
  },
  {
   "cell_type": "code",
   "execution_count": 10,
   "metadata": {},
   "outputs": [
    {
     "name": "stdout",
     "output_type": "stream",
     "text": [
      "Signal duration: 0:15:00\n"
     ]
    }
   ],
   "source": [
    "print(f\"Signal duration: {datetime.timedelta(seconds=len(df.index)/SAMPLING_RATE)}\")"
   ]
  },
  {
   "cell_type": "markdown",
   "metadata": {},
   "source": [
    "## Define LF/HF value ranges"
   ]
  },
  {
   "cell_type": "markdown",
   "metadata": {},
   "source": [
    "### Paper: Herzig et al., Reproducibility of Heart Rate Variability Is Parameter and Sleep Stage Dependent (2017)"
   ]
  },
  {
   "cell_type": "code",
   "execution_count": 11,
   "metadata": {},
   "outputs": [],
   "source": [
    "# stage_2 = {'min': 0.68, 'median': 1.11, 'max': 2.02}\n",
    "# sws = {'min': 0.31 , 'median': 0.51, 'max': 0.90}\n",
    "nrem = {'min': 0.31, 'median': (2.02-0.31)/2 , 'max': 2.02}\n",
    "rem = {'min': 1.30, 'median': 2.02 , 'max': 3.22}"
   ]
  },
  {
   "cell_type": "markdown",
   "metadata": {},
   "source": [
    "### Paper: Ako et al., Correlation between electroencephalography and heart rate variability during sleep (2003)"
   ]
  },
  {
   "cell_type": "code",
   "execution_count": null,
   "metadata": {},
   "outputs": [],
   "source": [
    "stage_1 = {'min': 2.30-0.29, 'median': 2.30, 'max': 2.30+0.29}\n",
    "stage_2 = {'min': 1.85-0.09 , 'median': 1.85 , 'max': 1.85+0.09}\n",
    "stage_3 = {'min': 0.78-0.06 , 'median': 0.78, 'max': 0.78+0.06}\n",
    "stage_4 = {'min': 0.86-0.14, 'median': 0.86, 'max': 0.86+0.14}\n",
    "rem = {'min': 2.51-0.17, 'median': 2.51, 'max': 2.51+0.17}"
   ]
  },
  {
   "cell_type": "code",
   "execution_count": 39,
   "metadata": {},
   "outputs": [],
   "source": [
    "start = 0\n",
    "# Number of data points in 5 minutes\n",
    "window_size = 5*60*SAMPLING_RATE\n",
    "end = window_size\n",
    "values = []\n",
    "\n",
    "while end <= df.index[-1]+1:\n",
    "    stages = []\n",
    "\n",
    "    df_5_min = df[start:end]\n",
    "    ecg = df_5_min[\"ECG\"].values.tolist()\n",
    "    # Filter the data with ranges specified from Barbara\n",
    "    filter_ecg = nk.signal_filter(ecg, sampling_rate=SAMPLING_RATE, lowcut=0.5, highcut=150)\n",
    "    cleaned = nk.ecg_clean(filter_ecg, sampling_rate=SAMPLING_RATE, method=\"neurokit\")\n",
    "    peaks, info = nk.ecg_peaks(cleaned, sampling_rate=SAMPLING_RATE, method=\"neurokit\")\n",
    "\n",
    "    hrv_indices = nk.hrv(peaks, sampling_rate=SAMPLING_RATE)\n",
    "    hrv_welch = nk.hrv_frequency(peaks, sampling_rate=SAMPLING_RATE, psd_method=\"welch\")\n",
    "\n",
    "    if  nrem['min'] <= hrv_indices['HRV_LFHF'][0] <= nrem['max'] + 1:\n",
    "        stages.append('nrem')\n",
    "\n",
    "    elif rem['min'] <= hrv_indices['HRV_LFHF'][0] <= rem['max'] + 1:\n",
    "        stages.append('rem')\n",
    "\n",
    "    \n",
    "\n",
    "    values.append({\n",
    "        'start_id': start,\n",
    "        'end_id': end,\n",
    "        'LF/HF': hrv_welch['HRV_LFHF'][0],\n",
    "        'SD': hrv_indices['HRV_SDNN'][0],\n",
    "        'stages': stages,\n",
    "        'color': None\n",
    "    })\n",
    "\n",
    "    \n",
    "\n",
    "    start = end\n",
    "    end += window_size"
   ]
  },
  {
   "cell_type": "code",
   "execution_count": 40,
   "metadata": {},
   "outputs": [
    {
     "data": {
      "text/plain": [
       "[{'start_id': 0,\n",
       "  'end_id': 300000,\n",
       "  'LF/HF': 1.2104719065647447,\n",
       "  'SD': 464.49439264217165,\n",
       "  'stages': ['nrem'],\n",
       "  'color': None},\n",
       " {'start_id': 300000,\n",
       "  'end_id': 600000,\n",
       "  'LF/HF': 0.5692369237953601,\n",
       "  'SD': 142.4711915588191,\n",
       "  'stages': ['nrem'],\n",
       "  'color': None},\n",
       " {'start_id': 600000,\n",
       "  'end_id': 900000,\n",
       "  'LF/HF': 1.7610367863296106,\n",
       "  'SD': 237.5962333178986,\n",
       "  'stages': ['nrem'],\n",
       "  'color': None}]"
      ]
     },
     "execution_count": 40,
     "metadata": {},
     "output_type": "execute_result"
    }
   ],
   "source": [
    "values"
   ]
  },
  {
   "cell_type": "markdown",
   "metadata": {},
   "source": [
    "## Script using hrvana framework\n",
    "\n",
    "https://github.com/bzhai/multimodal_sleep_stage_benchmark/blob/master/notebooks/Tutorial-HRV%20Feature%20Extraction%20From%20ECG.ipynb"
   ]
  },
  {
   "cell_type": "code",
   "execution_count": 1,
   "metadata": {},
   "outputs": [],
   "source": [
    "import hrvanalysis as hrvana"
   ]
  },
  {
   "cell_type": "code",
   "execution_count": 15,
   "metadata": {},
   "outputs": [
    {
     "name": "stdout",
     "output_type": "stream",
     "text": [
      "25 outlier(s) have been deleted.\n",
      "The outlier(s) value(s) are : [22951.0, 3417.0, 2761.0, 2838.0, 2183.0, 2374.0, 257.0, 2923.0, 252.0, 5500.0, 4612.0, 287.0, 253.0, 272.0, 2274.0, 258.0, 260.0, 2181.0, 2393.0, 2218.0, 6466.0, 33460.0, 3508.0, 2359.0, 2048.0]\n",
      "87 ectopic beat(s) have been deleted with malik rule.\n",
      "LF/HF ratio: 4.482200674930411\n",
      "4 outlier(s) have been deleted.\n",
      "The outlier(s) value(s) are : [2324.0, 266.0, 293.0, 267.0]\n",
      "31 ectopic beat(s) have been deleted with malik rule.\n",
      "LF/HF ratio: 1.0421030976291497\n",
      "3 outlier(s) have been deleted.\n",
      "The outlier(s) value(s) are : [269.0, 286.0, 257.0]\n",
      "39 ectopic beat(s) have been deleted with malik rule.\n",
      "LF/HF ratio: 1.1058894636183454\n"
     ]
    }
   ],
   "source": [
    "start = 0\n",
    "# Number of data points in 5 minutes\n",
    "window_size = 5*60*SAMPLING_RATE\n",
    "end = window_size\n",
    "values = []\n",
    "\n",
    "while end <= df.index[-1]+1:\n",
    "    stages = []\n",
    "\n",
    "    df_5_min = df[start:end]\n",
    "    ecg = df_5_min[\"ECG\"].values.tolist()\n",
    "\n",
    "    # Filter the data with ranges specified from Barbara\n",
    "    filter_ecg = nk.signal_filter(ecg, sampling_rate=SAMPLING_RATE, lowcut=0.5, highcut=150)\n",
    "    cleaned = nk.ecg_clean(filter_ecg, sampling_rate=SAMPLING_RATE, method=\"pantompkins1985\")\n",
    "    pantompkins1985 = nk.ecg_findpeaks(cleaned, method=\"pantompkins1985\") # find the R peaks\n",
    "    hrv_df = pd.DataFrame(pantompkins1985)\n",
    "    hrv_df[\"RR Intervals\"] = hrv_df[\"ECG_R_Peaks\"].diff() # calculate the value difference between two adjacent points\n",
    "    hrv_df.loc[0, \"RR Intervals\"]=hrv_df.loc[0]['ECG_R_Peaks'] # the first datapoint contain Nan \n",
    "\n",
    "    # Clean RR intervals\n",
    "    clean_rri = hrv_df['RR Intervals'].values\n",
    "    clean_rri = hrvana.remove_outliers(rr_intervals=clean_rri, low_rri=300, high_rri=2000)\n",
    "    clean_rri = hrvana.interpolate_nan_values(rr_intervals=clean_rri, interpolation_method=\"linear\")\n",
    "    clean_rri = hrvana.remove_ectopic_beats(rr_intervals=clean_rri, method=\"malik\")\n",
    "    clean_rri = hrvana.interpolate_nan_values(rr_intervals=clean_rri, interpolation_method=\"linear\")\n",
    "\n",
    "    # HRV feature extraction\n",
    "    nn_epoch = hrv_df['RR Intervals'].values\n",
    "\n",
    "    time_features = hrvana.get_time_domain_features(nn_epoch)\n",
    "    frequency_features = hrvana.get_frequency_domain_features(nn_epoch)\n",
    "\n",
    "    print(f\"LF/HF ratio: {frequency_features['lf_hf_ratio']}\")\n",
    "\n",
    "    if  nrem['min'] <= frequency_features['lf_hf_ratio'] <= nrem['max'] + 1:\n",
    "        stages.append('nrem')\n",
    "\n",
    "    elif rem['min'] <= frequency_features['lf_hf_ratio'] <= rem['max'] + 1:\n",
    "        stages.append('rem')\n",
    "\n",
    "    \n",
    "\n",
    "    values.append({\n",
    "        'start_id': start,\n",
    "        'end_id': end,\n",
    "        'LF/HF': frequency_features['lf_hf_ratio'],\n",
    "        'SD': time_features['sdnn'],\n",
    "        'stages': stages,\n",
    "        'color': None\n",
    "    })\n",
    "\n",
    "    \n",
    "\n",
    "    start = end\n",
    "    end += window_size"
   ]
  },
  {
   "cell_type": "code",
   "execution_count": 14,
   "metadata": {},
   "outputs": [
    {
     "data": {
      "text/plain": [
       "[{'start_id': 0,\n",
       "  'end_id': 300000,\n",
       "  'LF/HF': 4.482200674930411,\n",
       "  'SD': 2411.6198940304757,\n",
       "  'stages': [],\n",
       "  'color': None},\n",
       " {'start_id': 300000,\n",
       "  'end_id': 600000,\n",
       "  'LF/HF': 1.0421030976291497,\n",
       "  'SD': 205.84365551014199,\n",
       "  'stages': ['nrem'],\n",
       "  'color': None},\n",
       " {'start_id': 600000,\n",
       "  'end_id': 900000,\n",
       "  'LF/HF': 1.1058894636183454,\n",
       "  'SD': 178.70773954102447,\n",
       "  'stages': ['nrem'],\n",
       "  'color': None}]"
      ]
     },
     "execution_count": 14,
     "metadata": {},
     "output_type": "execute_result"
    }
   ],
   "source": [
    "values"
   ]
  }
 ],
 "metadata": {
  "kernelspec": {
   "display_name": ".venv",
   "language": "python",
   "name": "python3"
  },
  "language_info": {
   "codemirror_mode": {
    "name": "ipython",
    "version": 3
   },
   "file_extension": ".py",
   "mimetype": "text/x-python",
   "name": "python",
   "nbconvert_exporter": "python",
   "pygments_lexer": "ipython3",
   "version": "3.11.4"
  },
  "orig_nbformat": 4
 },
 "nbformat": 4,
 "nbformat_minor": 2
}
