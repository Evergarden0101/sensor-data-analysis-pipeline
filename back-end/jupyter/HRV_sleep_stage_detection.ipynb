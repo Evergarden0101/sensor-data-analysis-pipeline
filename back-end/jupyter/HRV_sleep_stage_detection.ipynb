{
 "cells": [
  {
   "cell_type": "code",
   "execution_count": 1,
   "metadata": {},
   "outputs": [],
   "source": [
    "import pandas as pd \n",
    "import matplotlib.pyplot as plt\n",
    "import datetime\n",
    "import neurokit2 as nk\n",
    "import numpy as np\n",
    "%matplotlib inline"
   ]
  },
  {
   "cell_type": "code",
   "execution_count": 14,
   "metadata": {},
   "outputs": [],
   "source": [
    "SAMPLING_RATE = 1000"
   ]
  },
  {
   "cell_type": "code",
   "execution_count": 15,
   "metadata": {},
   "outputs": [],
   "source": [
    "df = pd.read_csv('../data/1222325cFnorm.csv')"
   ]
  },
  {
   "cell_type": "code",
   "execution_count": 16,
   "metadata": {},
   "outputs": [],
   "source": [
    "ecg = df[\"ECG\"].values.tolist()"
   ]
  },
  {
   "cell_type": "markdown",
   "metadata": {},
   "source": [
    "### Downsample the data"
   ]
  },
  {
   "cell_type": "code",
   "execution_count": 17,
   "metadata": {},
   "outputs": [],
   "source": [
    "ecg_ds = nk.signal_resample(ecg, sampling_rate=2000, desired_sampling_rate=SAMPLING_RATE)"
   ]
  },
  {
   "cell_type": "code",
   "execution_count": 18,
   "metadata": {},
   "outputs": [],
   "source": [
    "ecg_df = pd.DataFrame(ecg_ds, columns=['ECG'])"
   ]
  },
  {
   "cell_type": "code",
   "execution_count": 19,
   "metadata": {},
   "outputs": [
    {
     "data": {
      "text/html": [
       "<div>\n",
       "<style scoped>\n",
       "    .dataframe tbody tr th:only-of-type {\n",
       "        vertical-align: middle;\n",
       "    }\n",
       "\n",
       "    .dataframe tbody tr th {\n",
       "        vertical-align: top;\n",
       "    }\n",
       "\n",
       "    .dataframe thead th {\n",
       "        text-align: right;\n",
       "    }\n",
       "</style>\n",
       "<table border=\"1\" class=\"dataframe\">\n",
       "  <thead>\n",
       "    <tr style=\"text-align: right;\">\n",
       "      <th></th>\n",
       "      <th>ECG</th>\n",
       "    </tr>\n",
       "  </thead>\n",
       "  <tbody>\n",
       "    <tr>\n",
       "      <th>0</th>\n",
       "      <td>0.015600</td>\n",
       "    </tr>\n",
       "    <tr>\n",
       "      <th>1</th>\n",
       "      <td>0.015573</td>\n",
       "    </tr>\n",
       "    <tr>\n",
       "      <th>2</th>\n",
       "      <td>0.015637</td>\n",
       "    </tr>\n",
       "    <tr>\n",
       "      <th>3</th>\n",
       "      <td>0.015685</td>\n",
       "    </tr>\n",
       "    <tr>\n",
       "      <th>4</th>\n",
       "      <td>0.015700</td>\n",
       "    </tr>\n",
       "    <tr>\n",
       "      <th>...</th>\n",
       "      <td>...</td>\n",
       "    </tr>\n",
       "    <tr>\n",
       "      <th>35331833</th>\n",
       "      <td>-0.000582</td>\n",
       "    </tr>\n",
       "    <tr>\n",
       "      <th>35331834</th>\n",
       "      <td>-0.000804</td>\n",
       "    </tr>\n",
       "    <tr>\n",
       "      <th>35331835</th>\n",
       "      <td>-0.000689</td>\n",
       "    </tr>\n",
       "    <tr>\n",
       "      <th>35331836</th>\n",
       "      <td>-0.000695</td>\n",
       "    </tr>\n",
       "    <tr>\n",
       "      <th>35331837</th>\n",
       "      <td>-0.000483</td>\n",
       "    </tr>\n",
       "  </tbody>\n",
       "</table>\n",
       "<p>35331838 rows × 1 columns</p>\n",
       "</div>"
      ],
      "text/plain": [
       "               ECG\n",
       "0         0.015600\n",
       "1         0.015573\n",
       "2         0.015637\n",
       "3         0.015685\n",
       "4         0.015700\n",
       "...            ...\n",
       "35331833 -0.000582\n",
       "35331834 -0.000804\n",
       "35331835 -0.000689\n",
       "35331836 -0.000695\n",
       "35331837 -0.000483\n",
       "\n",
       "[35331838 rows x 1 columns]"
      ]
     },
     "execution_count": 19,
     "metadata": {},
     "output_type": "execute_result"
    }
   ],
   "source": [
    "ecg_df"
   ]
  },
  {
   "cell_type": "code",
   "execution_count": 22,
   "metadata": {},
   "outputs": [],
   "source": [
    "# Take first n minutes\n",
    "minutes = 15\n",
    "\n",
    "n = minutes*60*SAMPLING_RATE\n",
    "df = ecg_df[:n]"
   ]
  },
  {
   "cell_type": "code",
   "execution_count": 26,
   "metadata": {},
   "outputs": [
    {
     "name": "stdout",
     "output_type": "stream",
     "text": [
      "Signal duration: 0:15:00\n"
     ]
    }
   ],
   "source": [
    "print(f\"Signal duration: {datetime.timedelta(seconds=len(df.index)/SAMPLING_RATE)}\")"
   ]
  },
  {
   "cell_type": "markdown",
   "metadata": {},
   "source": [
    "## Define LF/HF value ranges"
   ]
  },
  {
   "cell_type": "markdown",
   "metadata": {},
   "source": [
    "### Paper: Herzig et al., Reproducibility of Heart Rate Variability Is Parameter and Sleep Stage Dependent (2017)"
   ]
  },
  {
   "cell_type": "code",
   "execution_count": 27,
   "metadata": {},
   "outputs": [],
   "source": [
    "# stage_2 = {'min': 0.68, 'median': 1.11, 'max': 2.02}\n",
    "# sws = {'min': 0.31 , 'median': 0.51, 'max': 0.90}\n",
    "nrem = {'min': 0.31, 'median': (2.02-0.31)/2 , 'max': 2.02}\n",
    "rem = {'min': 1.30, 'median': 2.02 , 'max': 3.22}"
   ]
  },
  {
   "cell_type": "markdown",
   "metadata": {},
   "source": [
    "### Paper: Ako et al., Correlation between electroencephalography and heart rate variability during sleep (2003)"
   ]
  },
  {
   "cell_type": "code",
   "execution_count": null,
   "metadata": {},
   "outputs": [],
   "source": [
    "stage_1 = {'min': 2.30-0.29, 'median': 2.30, 'max': 2.30+0.29}\n",
    "stage_2 = {'min': 1.85-0.09 , 'median': 1.85 , 'max': 1.85+0.09}\n",
    "stage_3 = {'min': 0.78-0.06 , 'median': 0.78, 'max': 0.78+0.06}\n",
    "stage_4 = {'min': 0.86-0.14, 'median': 0.86, 'max': 0.86+0.14}\n",
    "rem = {'min': 2.51-0.17, 'median': 2.51, 'max': 2.51+0.17}"
   ]
  },
  {
   "cell_type": "code",
   "execution_count": 28,
   "metadata": {},
   "outputs": [
    {
     "name": "stdout",
     "output_type": "stream",
     "text": [
      "df index -1: 899999\n",
      "start: 0\n",
      "window size: 300000\n",
      "300000\n",
      "df index -1: 899999\n",
      "start: 300000\n",
      "window size: 600000\n",
      "600000\n"
     ]
    }
   ],
   "source": [
    "start = 0\n",
    "# Number of data points in 5 minutes\n",
    "window_size = 5*60*SAMPLING_RATE\n",
    "values = []\n",
    "\n",
    "while window_size <= df.index[-1]+1:\n",
    "    stages = []\n",
    "    print(f\"df index -1 + 1: {df.index[-1]+1}\")\n",
    "\n",
    "    df_5_min = df[start:window_size]\n",
    "    ecg = df_5_min[\"ECG\"].values.tolist()\n",
    "    # Filter the data with ranges specified from Barbara\n",
    "    filter_ecg = nk.signal_filter(ecg, sampling_rate=SAMPLING_RATE, lowcut=0.5, highcut=150)\n",
    "    cleaned = nk.ecg_clean(filter_ecg, sampling_rate=SAMPLING_RATE, method=\"neurokit\")\n",
    "    peaks, info = nk.ecg_peaks(cleaned, sampling_rate=SAMPLING_RATE, method=\"neurokit\")\n",
    "\n",
    "    hrv_indices = nk.hrv(peaks, sampling_rate=SAMPLING_RATE)\n",
    "    hrv_welch = nk.hrv_frequency(peaks, sampling_rate=SAMPLING_RATE, psd_method=\"welch\")\n",
    "\n",
    "    if  nrem['min'] <= hrv_indices['HRV_LFHF'][0] <= nrem['max'] + 1:\n",
    "        stages.append('nrem')\n",
    "\n",
    "    elif rem['min'] <= hrv_indices['HRV_LFHF'][0] <= rem['max'] + 1:\n",
    "        stages.append('rem')\n",
    "\n",
    "    \n",
    "\n",
    "    values.append({\n",
    "        'start_id': start,\n",
    "        'end_id': window_size,\n",
    "        'LF/HF': hrv_welch['HRV_LFHF'][0],\n",
    "        'SD': hrv_indices['HRV_SDNN'][0],\n",
    "        'stages': stages,\n",
    "        'color': None\n",
    "    })\n",
    "\n",
    "    \n",
    "\n",
    "    start = window_size\n",
    "    window_size += window_size\n",
    "\n",
    "    print(f\"start: {start}\")\n",
    "    print(f\"window size: {window_size}\")\n",
    "\n",
    "\n",
    "    \n"
   ]
  },
  {
   "cell_type": "code",
   "execution_count": 29,
   "metadata": {},
   "outputs": [
    {
     "data": {
      "text/plain": [
       "[{'start_id': 0,\n",
       "  'end_id': 300000,\n",
       "  'LF/HF': 1.2104719065647447,\n",
       "  'SD': 464.49439264217165,\n",
       "  'stages': ['nrem'],\n",
       "  'color': None},\n",
       " {'start_id': 300000,\n",
       "  'end_id': 600000,\n",
       "  'LF/HF': 0.5692369237953601,\n",
       "  'SD': 142.4711915588191,\n",
       "  'stages': ['nrem'],\n",
       "  'color': None}]"
      ]
     },
     "execution_count": 29,
     "metadata": {},
     "output_type": "execute_result"
    }
   ],
   "source": [
    "values"
   ]
  }
 ],
 "metadata": {
  "kernelspec": {
   "display_name": ".venv",
   "language": "python",
   "name": "python3"
  },
  "language_info": {
   "codemirror_mode": {
    "name": "ipython",
    "version": 3
   },
   "file_extension": ".py",
   "mimetype": "text/x-python",
   "name": "python",
   "nbconvert_exporter": "python",
   "pygments_lexer": "ipython3",
   "version": "3.11.4"
  },
  "orig_nbformat": 4
 },
 "nbformat": 4,
 "nbformat_minor": 2
}
