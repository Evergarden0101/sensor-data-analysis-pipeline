{
 "cells": [
  {
   "cell_type": "code",
   "execution_count": 1,
   "metadata": {},
   "outputs": [],
   "source": [
    "import pandas as pd\n",
    "import numpy as np\n",
    "import matplotlib.pyplot as plt"
   ]
  },
  {
   "cell_type": "code",
   "execution_count": 2,
   "metadata": {},
   "outputs": [],
   "source": [
    "week_max = 2\n",
    "data = [(0, 18), (1, 11), (2, 15),(8, 10)]\n",
    "columns = ['day', 'count']"
   ]
  },
  {
   "cell_type": "code",
   "execution_count": 3,
   "metadata": {},
   "outputs": [
    {
     "name": "stdout",
     "output_type": "stream",
     "text": [
      "   day  count\n",
      "0    0     18\n",
      "1    1     11\n",
      "2    2     15\n",
      "3    8     10\n"
     ]
    }
   ],
   "source": [
    "df = pd.DataFrame(data, columns=columns)\n",
    "print(df)"
   ]
  },
  {
   "cell_type": "code",
   "execution_count": 27,
   "metadata": {},
   "outputs": [
    {
     "name": "stdout",
     "output_type": "stream",
     "text": [
      "DatetimeIndex(['2023-01-01', '2023-01-02', '2023-01-03', '2023-01-04',\n",
      "               '2023-01-05', '2023-01-06', '2023-01-07', '2023-01-08',\n",
      "               '2023-01-09', '2023-01-10', '2023-01-11', '2023-01-12',\n",
      "               '2023-01-13', '2023-01-14'],\n",
      "              dtype='datetime64[ns]', freq='D')\n"
     ]
    }
   ],
   "source": [
    "idx = pd.date_range('2023-01-01', end='2023-01-14', freq='D')\n",
    "print(idx)"
   ]
  },
  {
   "cell_type": "code",
   "execution_count": 48,
   "metadata": {},
   "outputs": [
    {
     "name": "stdout",
     "output_type": "stream",
     "text": [
      "[ 0.  1.  2.  3.  4.  5.  6.  7.  8.  9. 10. 11. 12. 13.]\n",
      "      day  count\n",
      "0.0   0.0   32.0\n",
      "1.0   1.0   11.0\n",
      "2.0   2.0   30.0\n",
      "3.0   8.0   15.0\n",
      "4.0   8.0   15.0\n",
      "5.0   8.0   15.0\n",
      "6.0   8.0   15.0\n",
      "7.0   8.0   15.0\n",
      "8.0   8.0   15.0\n",
      "9.0   8.0   15.0\n",
      "10.0  8.0   15.0\n",
      "11.0  8.0   15.0\n",
      "12.0  8.0   15.0\n",
      "13.0  8.0   15.0\n"
     ]
    }
   ],
   "source": [
    "print(np.linspace(0,week_max*7-1,week_max*7))\n",
    "df1 = df.reindex(df.index.union(np.linspace(0,week_max*7-1,week_max*7)))\n",
    "df1.interpolate(method='linear', inplace=True)\n",
    "print(df1)"
   ]
  },
  {
   "cell_type": "code",
   "execution_count": 4,
   "metadata": {},
   "outputs": [
    {
     "name": "stdout",
     "output_type": "stream",
     "text": [
      "            day\n",
      "date           \n",
      "2023-01-01    0\n",
      "2023-01-02    1\n",
      "2023-01-03    2\n",
      "2023-01-04    3\n",
      "2023-01-05    4\n",
      "2023-01-06    5\n",
      "2023-01-07    6\n",
      "2023-01-08    7\n",
      "2023-01-09    8\n",
      "DatetimeIndex(['2023-01-01', '2023-01-02', '2023-01-03', '2023-01-04',\n",
      "               '2023-01-05', '2023-01-06', '2023-01-07', '2023-01-08',\n",
      "               '2023-01-09'],\n",
      "              dtype='datetime64[ns]', name='date', freq='D')\n"
     ]
    }
   ],
   "source": [
    "day_list = [0,8]\n",
    "# day_list = pd.to_datetime(day_list, unit='D', origin=pd.Timestamp('2023-01-01')).to_series()\n",
    "day_list = pd.DataFrame(day_list,columns=['day'])\n",
    "day_list['date'] = pd.to_datetime(day_list['day'], unit='D', origin='2023-01-01')\n",
    "day_list = day_list.set_index('date').resample('D').asfreq()\n",
    "day_list['day'] = day_list['day'].interpolate(method='linear', limit_direction='both').astype(int)\n",
    "# day_list['date'] = day_list['date'].interpolate(method='linear')\n",
    "print(day_list)\n",
    "print(day_list.index)"
   ]
  },
  {
   "cell_type": "code",
   "execution_count": 5,
   "metadata": {},
   "outputs": [
    {
     "name": "stdout",
     "output_type": "stream",
     "text": [
      "   day  count       date\n",
      "0    0     18 2023-01-01\n",
      "1    1     11 2023-01-02\n",
      "2    2     15 2023-01-03\n",
      "3    8     10 2023-01-09\n"
     ]
    }
   ],
   "source": [
    "# df['date'] = pd.to_datetime(df['day'], unit='D', origin='2023-01-01')  # Assuming 2023-01-01 is the start date\n",
    "df['date'] = day_list.index[df['day']]\n",
    "print(df)"
   ]
  },
  {
   "cell_type": "code",
   "execution_count": 6,
   "metadata": {},
   "outputs": [
    {
     "name": "stdout",
     "output_type": "stream",
     "text": [
      "            day  count\n",
      "date                  \n",
      "2023-01-01    0     18\n",
      "2023-01-02    1     11\n",
      "2023-01-03    2     15\n",
      "2023-01-04    3     13\n",
      "2023-01-05    4     12\n",
      "2023-01-06    5     12\n",
      "2023-01-07    6     11\n",
      "2023-01-08    7     10\n",
      "2023-01-09    8     10\n"
     ]
    }
   ],
   "source": [
    "\n",
    "# Resample the DataFrame with daily frequency\n",
    "daily_df = df.set_index('date').resample('D').asfreq()\n",
    "\n",
    "# Interpolate the 'count' column\n",
    "daily_df['day'] = daily_df['day'].interpolate(method='linear', limit_direction='both').astype(int)\n",
    "daily_df['count'] = daily_df['count'].interpolate(method='spline', order=1).astype(int)\n",
    "print(daily_df)"
   ]
  },
  {
   "cell_type": "code",
   "execution_count": 59,
   "metadata": {},
   "outputs": [
    {
     "data": {
      "image/png": "[encoded data removed]",
      "text/plain": [
       "<Figure size 720x432 with 1 Axes>"
      ]
     },
     "metadata": {
      "needs_background": "light"
     },
     "output_type": "display_data"
    }
   ],
   "source": [
    "plt.figure(figsize=(10, 6))\n",
    "plt.plot(daily_df['day'], daily_df['count'], marker='o', linestyle='-')\n",
    "plt.xlabel('Day')\n",
    "plt.ylabel('Count')\n",
    "plt.ylim(ymin=0)\n",
    "plt.title('Event Trend')\n",
    "plt.legend(['Patient 1'])\n",
    "# plt.grid(True)\n",
    "plt.show()"
   ]
  },
  {
   "cell_type": "code",
   "execution_count": 16,
   "metadata": {},
   "outputs": [
    {
     "name": "stdout",
     "output_type": "stream",
     "text": [
      "1-2\n",
      "startmax:  1\n",
      "endmin:  2\n",
      "5-6\n",
      "startmax:  5\n",
      "endmin:  2\n",
      "1-2, 3-4, 5-6\n"
     ]
    }
   ],
   "source": [
    "def interpolate_weeks(week_value):\n",
    "    ranges = week_value\n",
    "    interpolated_ranges = []\n",
    "    endmin = 99999999\n",
    "    startmax = 0\n",
    "\n",
    "    for week_range in ranges:\n",
    "        print(week_range)\n",
    "        start, end = map(int, week_range.split('-'))\n",
    "        startmax = max(start, startmax)\n",
    "        endmin = min(end, endmin)\n",
    "        print('startmax: ', startmax)\n",
    "        print('endmin: ', endmin)\n",
    "\n",
    "        # Interpolate between ranges\n",
    "        if startmax - endmin > 1:\n",
    "            for i in range(endmin + 1, startmax,2):\n",
    "                interpolated_ranges.append(f\"{i}-{i+1}\")\n",
    "        \n",
    "        interpolated_ranges.append(f\"{start}-{end}\")\n",
    "\n",
    "    return ', '.join(interpolated_ranges)\n",
    "\n",
    "# Example\n",
    "week_value = ['1-2', '5-6']\n",
    "result = interpolate_weeks(week_value)\n",
    "print(result)"
   ]
  }
 ],
 "metadata": {
  "kernelspec": {
   "display_name": "Python 3",
   "language": "python",
   "name": "python3"
  },
  "language_info": {
   "codemirror_mode": {
    "name": "ipython",
    "version": 3
   },
   "file_extension": ".py",
   "mimetype": "text/x-python",
   "name": "python",
   "nbconvert_exporter": "python",
   "pygments_lexer": "ipython3",
   "version": "3.10.6"
  }
 },
 "nbformat": 4,
 "nbformat_minor": 2
}
