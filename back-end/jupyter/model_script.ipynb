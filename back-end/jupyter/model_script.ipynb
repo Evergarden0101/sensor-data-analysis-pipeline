{
 "cells": [
  {
   "cell_type": "code",
   "execution_count": 1,
   "metadata": {},
   "outputs": [],
   "source": [
    "import numpy as np\n",
    "import pandas as pd\n",
    "import xgboost as xgb\n",
    "import neurokit2 as nk\n",
    "from sklearn.model_selection import train_test_split\n",
    "from sklearn.preprocessing import StandardScaler\n",
    "import re\n",
    "import os"
   ]
  },
  {
   "cell_type": "code",
   "execution_count": 2,
   "metadata": {},
   "outputs": [],
   "source": [
    "DATA_PATH = '/srv/scratch3/bruxit/bruxit_all_fnorm/'\n",
    "DATA_PATH = \"/Users/nanashuka/Document/Zurich/UZH/master_project/sensor-data-analysis-pipeline/back-end/data/\"\n",
    "original_sampling = 2000\n",
    "selected_sampling = 1000"
   ]
  },
  {
   "cell_type": "code",
   "execution_count": 3,
   "metadata": {},
   "outputs": [],
   "source": [
    "def resample_signal(signal, sampling_rate=2000, selected_sampling=1000):\n",
    "    return nk.signal_resample(signal, sampling_rate=sampling_rate, desired_sampling_rate=selected_sampling, method=\"pandas\")"
   ]
  },
  {
   "cell_type": "code",
   "execution_count": 5,
   "metadata": {},
   "outputs": [
    {
     "name": "stdout",
     "output_type": "stream",
     "text": [
      "{'3': [{'week': '21-22', 'night_id': '0100004', 'recorder': 'a'}, {'week': '5-6', 'night_id': '0809455', 'recorder': 'a'}, {'week': '5-6', 'night_id': '0816565', 'recorder': 'a'}, {'week': '5-6', 'night_id': '0902175', 'recorder': 'a'}, {'week': '3-4', 'night_id': '0602473', 'recorder': 'a'}, {'week': '3-4', 'night_id': '0612150', 'recorder': 'a'}, {'week': '13-14', 'night_id': '0100002', 'recorder': 'a'}], '2': [{'week': '1-2', 'night_id': '0107285', 'recorder': 'e'}, {'week': '1-2', 'night_id': '0123035', 'recorder': 'e'}, {'week': '1-2', 'night_id': '0204451', 'recorder': 'e'}, {'week': '1-2', 'night_id': '0213314', 'recorder': 'e'}, {'week': '5-6', 'night_id': '0521390', 'recorder': 'e'}, {'week': '3-4', 'night_id': '0315230', 'recorder': 'e'}, {'week': '13-14', 'night_id': '1722373', 'recorder': 'd'}], '1': [{'week': '21-22', 'night_id': '2020582', 'recorder': 'c'}, {'week': '1', 'night_id': '0901260', 'recorder': 'c'}, {'week': '1', 'night_id': '1022102', 'recorder': 'c'}, {'week': '1', 'night_id': '1222325', 'recorder': 'c'}]}\n"
     ]
    }
   ],
   "source": [
    "existing_patients_recordings = {}\n",
    "for folder in os.listdir(DATA_PATH):\n",
    "        if not os.path.isdir(DATA_PATH + folder):\n",
    "            continue\n",
    "        if not re.search('p(.*?)_', folder):\n",
    "            continue\n",
    "        patient_id = re.search('p(.*?)_', folder).group(1)\n",
    "\n",
    "        patient_week_folder = DATA_PATH + folder\n",
    "\n",
    "        csv_files = [f for f in os.listdir(patient_week_folder) if f.endswith(\".csv\")]\n",
    "\n",
    "        night_id_list= []\n",
    "        night_id_recorder = {}\n",
    "        for csv in csv_files:\n",
    "            night_id = re.search(\"[0-9]+\", csv).group(0)\n",
    "            night_id_list.append(night_id)\n",
    "\n",
    "            if \"location_Bites\" not in csv:\n",
    "                recorder = re.search('.(?=F)', csv).group(0)\n",
    "                night_id_recorder[night_id] = recorder\n",
    "\n",
    "        if night_id_list:\n",
    "            week = re.search('wk(.*)', folder).group(1)\n",
    "            night_id_list = list(set(night_id_list))\n",
    "            night_id_list = sorted(night_id_list)\n",
    "\n",
    "            for night_id in night_id_list:\n",
    "                if patient_id in existing_patients_recordings:\n",
    "                    existing_patients_recordings[patient_id].append({\n",
    "                        \"week\": week,\n",
    "                        \"night_id\": night_id,\n",
    "                        \"recorder\": night_id_recorder[night_id]\n",
    "                    })\n",
    "                else:\n",
    "                    existing_patients_recordings[patient_id] = [{\n",
    "                        \"week\": week,\n",
    "                        \"night_id\": night_id,\n",
    "                        \"recorder\": night_id_recorder[night_id]\n",
    "                    }]\n",
    "print(existing_patients_recordings)"
   ]
  },
  {
   "cell_type": "code",
   "execution_count": 8,
   "metadata": {},
   "outputs": [
    {
     "name": "stdout",
     "output_type": "stream",
     "text": [
      "Patient:  3\n",
      "p3, wk21-22, 0100004a\n",
      "range_max:  489511\n",
      "data.shape:  (489511, 2)\n",
      "data:                    MR            ML\n",
      "count  489511.000000  4.895110e+05\n",
      "mean        0.000091 -2.335562e-07\n",
      "std         3.849291  1.288763e+00\n",
      "min       -71.793000 -1.757000e+02\n",
      "25%        -0.302290 -3.872200e-02\n",
      "50%         0.000733  3.616700e-05\n",
      "75%         0.306670  3.927800e-02\n",
      "max       108.550000  8.888100e+01\n",
      "label bites, wk21-22, 0100004a\n",
      "df_p.shape:  (244756, 3)\n",
      "df.shape:  (0, 3)\n",
      "\n",
      "p3, wk5-6, 0809455a\n",
      "range_max:  27396\n",
      "data.shape:  (27396, 2)\n",
      "data:                   MR            ML\n",
      "count  27396.000000  27396.000000\n",
      "mean       0.000019      0.000442\n",
      "std        0.682977      1.855528\n",
      "min      -12.705000    -16.463000\n",
      "25%       -0.085409     -0.327133\n",
      "50%       -0.003090      0.029702\n",
      "75%        0.080449      0.539615\n",
      "max       25.175000     22.501000\n",
      "label bites, wk5-6, 0809455a\n"
     ]
    },
    {
     "name": "stderr",
     "output_type": "stream",
     "text": [
      "/var/folders/50/2w03ns450yl9ht7z9dkhtr1w0000gn/T/ipykernel_10894/1695330115.py:57: FutureWarning: The frame.append method is deprecated and will be removed from pandas in a future version. Use pandas.concat instead.\n",
      "  df = df.append(df_p, ignore_index=True)\n"
     ]
    },
    {
     "name": "stdout",
     "output_type": "stream",
     "text": [
      "df_p.shape:  (13698, 3)\n",
      "df.shape:  (244756, 3)\n",
      "\n",
      "p3, wk5-6, 0816565a\n",
      "range_max:  20829\n",
      "data.shape:  (20829, 2)\n",
      "data:                   MR            ML\n",
      "count  20829.000000  20829.000000\n",
      "mean      -0.000232      0.001881\n",
      "std        1.825176      5.696589\n",
      "min      -14.500000   -114.570000\n",
      "25%       -0.612850     -2.403500\n",
      "50%       -0.017522      0.086490\n",
      "75%        0.554120      2.405300\n",
      "max       17.400000    120.110000\n",
      "label bites, wk5-6, 0816565a\n"
     ]
    },
    {
     "name": "stderr",
     "output_type": "stream",
     "text": [
      "/var/folders/50/2w03ns450yl9ht7z9dkhtr1w0000gn/T/ipykernel_10894/1695330115.py:57: FutureWarning: The frame.append method is deprecated and will be removed from pandas in a future version. Use pandas.concat instead.\n",
      "  df = df.append(df_p, ignore_index=True)\n"
     ]
    },
    {
     "name": "stdout",
     "output_type": "stream",
     "text": [
      "df_p.shape:  (10414, 3)\n",
      "df.shape:  (258454, 3)\n",
      "\n",
      "p3, wk5-6, 0902175a\n",
      "range_max:  18216\n",
      "data.shape:  (18216, 2)\n",
      "data:                   MR            ML\n",
      "count  18216.000000  18216.000000\n",
      "mean       0.000264     -0.000039\n",
      "std        3.783902      1.461487\n",
      "min      -52.385000    -10.225000\n",
      "25%       -0.705965     -0.550782\n",
      "50%       -0.013310      0.061732\n",
      "75%        0.639030      0.815513\n",
      "max      103.440000      9.179900\n",
      "label bites, wk5-6, 0902175a\n"
     ]
    },
    {
     "name": "stderr",
     "output_type": "stream",
     "text": [
      "/var/folders/50/2w03ns450yl9ht7z9dkhtr1w0000gn/T/ipykernel_10894/1695330115.py:57: FutureWarning: The frame.append method is deprecated and will be removed from pandas in a future version. Use pandas.concat instead.\n",
      "  df = df.append(df_p, ignore_index=True)\n"
     ]
    },
    {
     "name": "stdout",
     "output_type": "stream",
     "text": [
      "df_p.shape:  (9108, 3)\n",
      "df.shape:  (268868, 3)\n",
      "\n",
      "p3, wk3-4, 0602473a\n",
      "range_max:  21273\n",
      "data.shape:  (21273, 2)\n",
      "data:                   MR            ML\n",
      "count  21273.000000  21273.000000\n",
      "mean       0.000061      0.002164\n",
      "std        0.909057     11.866573\n",
      "min      -19.247000   -325.720000\n",
      "25%       -0.147190     -3.605900\n",
      "50%       -0.006554      0.609150\n",
      "75%        0.133690      4.772800\n",
      "max        9.504000    235.240000\n",
      "label bites, wk3-4, 0602473a\n"
     ]
    },
    {
     "name": "stderr",
     "output_type": "stream",
     "text": [
      "/var/folders/50/2w03ns450yl9ht7z9dkhtr1w0000gn/T/ipykernel_10894/1695330115.py:57: FutureWarning: The frame.append method is deprecated and will be removed from pandas in a future version. Use pandas.concat instead.\n",
      "  df = df.append(df_p, ignore_index=True)\n"
     ]
    },
    {
     "name": "stdout",
     "output_type": "stream",
     "text": [
      "Invalid frequency: 2.000094L\n",
      "\n",
      "p3, wk3-4, 0612150a\n",
      "range_max:  15290\n",
      "data.shape:  (15290, 2)\n",
      "data:                   MR            ML\n",
      "count  15290.000000  15290.000000\n",
      "mean       0.000393      0.000207\n",
      "std        0.666794      0.226058\n",
      "min       -3.354800     -0.582520\n",
      "25%       -0.441265     -0.203615\n",
      "50%        0.002002     -0.001321\n",
      "75%        0.453443      0.201080\n",
      "max        3.798600      0.715390\n",
      "label bites, wk3-4, 0612150a\n",
      "df_p.shape:  (7645, 3)\n",
      "df.shape:  (277976, 3)\n",
      "\n",
      "p3, wk13-14, 0100002a\n",
      "range_max:  490631\n",
      "data.shape:  (490631, 2)\n",
      "data:                    MR             ML\n",
      "count  490631.000000  490631.000000\n",
      "mean        0.000009      -0.000015\n",
      "std         6.920259       8.027082\n",
      "min      -349.910000    -433.870000\n",
      "25%        -0.603855      -1.378650\n",
      "50%        -0.001918       0.004328\n",
      "75%         0.596505       1.406400\n",
      "max       397.380000     364.570000\n",
      "label bites, wk13-14, 0100002a\n"
     ]
    },
    {
     "name": "stderr",
     "output_type": "stream",
     "text": [
      "/var/folders/50/2w03ns450yl9ht7z9dkhtr1w0000gn/T/ipykernel_10894/1695330115.py:57: FutureWarning: The frame.append method is deprecated and will be removed from pandas in a future version. Use pandas.concat instead.\n",
      "  df = df.append(df_p, ignore_index=True)\n"
     ]
    },
    {
     "name": "stdout",
     "output_type": "stream",
     "text": [
      "df_p.shape:  (245316, 3)\n",
      "df.shape:  (285621, 3)\n",
      "\n"
     ]
    },
    {
     "name": "stderr",
     "output_type": "stream",
     "text": [
      "/var/folders/50/2w03ns450yl9ht7z9dkhtr1w0000gn/T/ipykernel_10894/1695330115.py:57: FutureWarning: The frame.append method is deprecated and will be removed from pandas in a future version. Use pandas.concat instead.\n",
      "  df = df.append(df_p, ignore_index=True)\n"
     ]
    },
    {
     "name": "stdout",
     "output_type": "stream",
     "text": [
      "fit model p3\n",
      "save model p3\n",
      "fit general model\n",
      "Patient:  2\n",
      "p2, wk1-2, 0107285e\n",
      "range_max:  106111\n",
      "data.shape:  (106111, 2)\n",
      "data:                    MR             ML\n",
      "count  106111.000000  106111.000000\n",
      "mean       -0.000203       0.000021\n",
      "std        15.168053       1.913643\n",
      "min      -242.430000     -42.180000\n",
      "25%        -1.764500      -0.017774\n",
      "50%         0.007887      -0.000016\n",
      "75%         1.793800       0.018096\n",
      "max       332.330000      42.707000\n",
      "label bites, wk1-2, 0107285e\n",
      "df_p.shape:  (53056, 3)\n",
      "df.shape:  (0, 3)\n",
      "\n",
      "p2, wk1-2, 0123035e\n",
      "range_max:  47314\n",
      "data.shape:  (47314, 2)\n",
      "data:                   MR            ML\n",
      "count  47314.000000  47314.000000\n",
      "mean      -0.000009      0.000371\n",
      "std        0.213355      1.859459\n",
      "min       -1.594700    -19.193000\n",
      "25%       -0.026855     -0.178127\n",
      "50%       -0.001603      0.008792\n",
      "75%        0.019518      0.254890\n",
      "max        2.998600     12.724000\n",
      "label bites, wk1-2, 0123035e\n"
     ]
    },
    {
     "name": "stderr",
     "output_type": "stream",
     "text": [
      "/var/folders/50/2w03ns450yl9ht7z9dkhtr1w0000gn/T/ipykernel_10894/1695330115.py:57: FutureWarning: The frame.append method is deprecated and will be removed from pandas in a future version. Use pandas.concat instead.\n",
      "  df = df.append(df_p, ignore_index=True)\n"
     ]
    },
    {
     "name": "stdout",
     "output_type": "stream",
     "text": [
      "df_p.shape:  (23657, 3)\n",
      "df.shape:  (53056, 3)\n",
      "\n",
      "p2, wk1-2, 0204451e\n",
      "range_max:  79454\n",
      "data.shape:  (79454, 2)\n",
      "data:                   MR            ML\n",
      "count  79454.000000  79454.000000\n",
      "mean       0.000034     -0.000065\n",
      "std        1.109931      1.451143\n",
      "min      -11.763000    -18.805000\n",
      "25%       -0.104210     -0.108850\n",
      "50%       -0.004954      0.003342\n",
      "75%        0.086454      0.138738\n",
      "max       14.880000     11.816000\n",
      "label bites, wk1-2, 0204451e\n"
     ]
    },
    {
     "name": "stderr",
     "output_type": "stream",
     "text": [
      "/var/folders/50/2w03ns450yl9ht7z9dkhtr1w0000gn/T/ipykernel_10894/1695330115.py:57: FutureWarning: The frame.append method is deprecated and will be removed from pandas in a future version. Use pandas.concat instead.\n",
      "  df = df.append(df_p, ignore_index=True)\n"
     ]
    },
    {
     "name": "stdout",
     "output_type": "stream",
     "text": [
      "df_p.shape:  (39727, 3)\n",
      "df.shape:  (76713, 3)\n",
      "\n",
      "p2, wk1-2, 0213314e\n",
      "range_max:  46460\n",
      "data.shape:  (46460, 2)\n",
      "data:                   MR            ML\n",
      "count  46460.000000  46460.000000\n",
      "mean      -0.000088     -0.001207\n",
      "std        2.431369      1.895967\n",
      "min     -123.660000    -24.868000\n",
      "25%       -0.673620     -0.003952\n",
      "50%        0.000939     -0.000018\n",
      "75%        0.673403      0.004023\n",
      "max       61.411000     21.732000\n",
      "label bites, wk1-2, 0213314e\n"
     ]
    },
    {
     "name": "stderr",
     "output_type": "stream",
     "text": [
      "/var/folders/50/2w03ns450yl9ht7z9dkhtr1w0000gn/T/ipykernel_10894/1695330115.py:57: FutureWarning: The frame.append method is deprecated and will be removed from pandas in a future version. Use pandas.concat instead.\n",
      "  df = df.append(df_p, ignore_index=True)\n"
     ]
    },
    {
     "name": "stdout",
     "output_type": "stream",
     "text": [
      "df_p.shape:  (23230, 3)\n",
      "df.shape:  (116440, 3)\n",
      "\n",
      "p2, wk5-6, 0521390e\n",
      "range_max:  54090\n",
      "data.shape:  (54090, 2)\n",
      "data:                   MR            ML\n",
      "count  54090.000000  54089.000000\n",
      "mean       0.000090      0.000011\n",
      "std        0.154142      0.026851\n",
      "min       -0.653410     -0.111980\n",
      "25%       -0.101620     -0.017899\n",
      "50%        0.000323     -0.000135\n",
      "75%        0.101660      0.017639\n",
      "max        2.000000      0.115830\n",
      "label bites, wk5-6, 0521390e\n"
     ]
    },
    {
     "name": "stderr",
     "output_type": "stream",
     "text": [
      "/var/folders/50/2w03ns450yl9ht7z9dkhtr1w0000gn/T/ipykernel_10894/1695330115.py:57: FutureWarning: The frame.append method is deprecated and will be removed from pandas in a future version. Use pandas.concat instead.\n",
      "  df = df.append(df_p, ignore_index=True)\n"
     ]
    },
    {
     "name": "stdout",
     "output_type": "stream",
     "text": [
      "Invalid frequency: 2.000037L\n",
      "\n",
      "p2, wk3-4, 0315230e\n",
      "range_max:  46410\n",
      "data.shape:  (46410, 2)\n",
      "data:                   MR            ML\n",
      "count  46410.000000  46410.000000\n",
      "mean       0.000068     -0.000168\n",
      "std        2.282732      9.261159\n",
      "min     -116.900000   -116.000000\n",
      "25%       -0.675825     -0.726577\n",
      "50%        0.001474      0.075343\n",
      "75%        0.679740      0.748903\n",
      "max       54.921000     82.100000\n",
      "label bites, wk3-4, 0315230e\n",
      "df_p.shape:  (23205, 3)\n",
      "df.shape:  (139670, 3)\n",
      "\n",
      "p2, wk13-14, 1722373d\n",
      "range_max:  39605\n",
      "'utf-8' codec can't decode byte 0x82 in position 11: invalid start byte\n",
      "\n",
      "fit model p2\n"
     ]
    },
    {
     "name": "stderr",
     "output_type": "stream",
     "text": [
      "/var/folders/50/2w03ns450yl9ht7z9dkhtr1w0000gn/T/ipykernel_10894/1695330115.py:57: FutureWarning: The frame.append method is deprecated and will be removed from pandas in a future version. Use pandas.concat instead.\n",
      "  df = df.append(df_p, ignore_index=True)\n"
     ]
    },
    {
     "name": "stdout",
     "output_type": "stream",
     "text": [
      "save model p2\n",
      "fit general model\n",
      "Patient:  1\n",
      "p1, wk21-22, 2020582c\n",
      "range_max:  198171\n",
      "data.shape:  (198171, 2)\n",
      "data:                    MR            ML\n",
      "count  198171.000000  1.981650e+05\n",
      "mean       -0.000005 -7.299130e-07\n",
      "std         0.024706  3.007308e+00\n",
      "min        -0.062052 -6.824600e+00\n",
      "25%        -0.018987 -3.206000e+00\n",
      "50%        -0.000096 -3.782600e-05\n",
      "75%         0.018979  3.220300e+00\n",
      "max         0.064868  7.067700e+00\n",
      "label bites, wk21-22, 2020582c\n",
      "df_p.shape:  (99082, 3)\n",
      "df.shape:  (0, 3)\n",
      "\n",
      "p1, wk1, 0901260c\n",
      "range_max:  98692\n",
      "data.shape:  (98692, 2)\n",
      "data:                   MR            ML\n",
      "count  98692.000000  98692.000000\n",
      "mean      -0.008723     -0.001926\n",
      "std        9.037443      4.272387\n",
      "min     -117.350000    -81.854000\n",
      "25%       -1.479100     -0.515870\n",
      "50%        0.002658     -0.010820\n",
      "75%        1.552625      0.498565\n",
      "max       84.228000     95.417000\n",
      "label bites, wk1, 0901260c\n"
     ]
    },
    {
     "name": "stderr",
     "output_type": "stream",
     "text": [
      "/var/folders/50/2w03ns450yl9ht7z9dkhtr1w0000gn/T/ipykernel_10894/1695330115.py:57: FutureWarning: The frame.append method is deprecated and will be removed from pandas in a future version. Use pandas.concat instead.\n",
      "  df = df.append(df_p, ignore_index=True)\n"
     ]
    },
    {
     "name": "stdout",
     "output_type": "stream",
     "text": [
      "df_p.shape:  (49346, 3)\n",
      "df.shape:  (99082, 3)\n",
      "\n",
      "p1, wk1, 1022102c\n",
      "range_max:  38255\n",
      "data.shape:  (38255, 2)\n",
      "data:                   MR            ML\n",
      "count  38255.000000  38255.000000\n",
      "mean      -0.000004      0.000014\n",
      "std        0.573150      0.928574\n",
      "min      -10.111000     -6.510200\n",
      "25%       -0.104775     -0.313710\n",
      "50%       -0.003646      0.012859\n",
      "75%        0.076491      0.454295\n",
      "max       20.053000      5.087400\n",
      "label bites, wk1, 1022102c\n"
     ]
    },
    {
     "name": "stderr",
     "output_type": "stream",
     "text": [
      "/var/folders/50/2w03ns450yl9ht7z9dkhtr1w0000gn/T/ipykernel_10894/1695330115.py:57: FutureWarning: The frame.append method is deprecated and will be removed from pandas in a future version. Use pandas.concat instead.\n",
      "  df = df.append(df_p, ignore_index=True)\n"
     ]
    },
    {
     "name": "stdout",
     "output_type": "stream",
     "text": [
      "df_p.shape:  (19128, 3)\n",
      "df.shape:  (148428, 3)\n",
      "\n",
      "p1, wk1, 1222325c\n",
      "range_max:  47678\n",
      "data.shape:  (47678, 2)\n",
      "data:                   MR            ML\n",
      "count  47678.000000  47678.000000\n",
      "mean      -0.000047     -0.000013\n",
      "std        0.122124      1.381749\n",
      "min       -1.478200    -17.247000\n",
      "25%       -0.043328     -0.574365\n",
      "50%        0.002210      0.004575\n",
      "75%        0.047989      0.650145\n",
      "max        1.734100      8.678600\n",
      "label bites, wk1, 1222325c\n"
     ]
    },
    {
     "name": "stderr",
     "output_type": "stream",
     "text": [
      "/var/folders/50/2w03ns450yl9ht7z9dkhtr1w0000gn/T/ipykernel_10894/1695330115.py:57: FutureWarning: The frame.append method is deprecated and will be removed from pandas in a future version. Use pandas.concat instead.\n",
      "  df = df.append(df_p, ignore_index=True)\n"
     ]
    },
    {
     "name": "stdout",
     "output_type": "stream",
     "text": [
      "df_p.shape:  (23839, 3)\n",
      "df.shape:  (167556, 3)\n",
      "\n",
      "fit model p1\n"
     ]
    },
    {
     "name": "stderr",
     "output_type": "stream",
     "text": [
      "/var/folders/50/2w03ns450yl9ht7z9dkhtr1w0000gn/T/ipykernel_10894/1695330115.py:57: FutureWarning: The frame.append method is deprecated and will be removed from pandas in a future version. Use pandas.concat instead.\n",
      "  df = df.append(df_p, ignore_index=True)\n"
     ]
    },
    {
     "name": "stdout",
     "output_type": "stream",
     "text": [
      "save model p1\n",
      "fit general model\n",
      "save general model\n"
     ]
    }
   ],
   "source": [
    "general_model = xgb.XGBClassifier(n_estimators=100, objective='binary:logistic',\n",
    "        eval_metric='logloss', subsample=0.6, max_depth=3, learning_rate=0.1, colsample_bytree=1.0)\n",
    "first = True\n",
    "for patient_id, recordings in existing_patients_recordings.items():\n",
    "    print(\"Patient: \", patient_id)\n",
    "    patient_model = xgb.XGBClassifier(n_estimators=100, objective='binary:logistic',\n",
    "        eval_metric='logloss', subsample=0.6, max_depth=3, learning_rate=0.1, colsample_bytree=1.0)\n",
    "    df = pd.DataFrame({'MR': [], 'ML': [], 'Bites': []})\n",
    "    for recording in recordings:\n",
    "        try:\n",
    "            week = recording[\"week\"]\n",
    "            night_id = recording[\"night_id\"]\n",
    "            recorder = recording[\"recorder\"]\n",
    "            print(f\"p{patient_id}, wk{week}, {night_id}{recorder}\")\n",
    "            # Load data\n",
    "            loc = pd.read_csv(DATA_PATH + \"p\" + patient_id + \"_wk\" + week + \"/\" + night_id + recorder + \"location_Bites.csv\")\n",
    "            # data = pd.read_csv(DATA_PATH + \"p\" + patient_id + \"_wk\" + week + \"/\" + night_id + recorder + \"Fnorm.csv\")\n",
    "            range_min = 0\n",
    "            range_max = int(loc.iloc[2,1]) + 1\n",
    "            dur_len = float(loc.iloc[0,2]) + float(loc.iloc[1,2]) + float(loc.iloc[2,2])\n",
    "            if dur_len*original_sampling*2 > range_max:\n",
    "                range_max = int(dur_len*2000*2)\n",
    "            print('range_max: ', range_max)\n",
    "            data_itr = pd.read_csv(f'{DATA_PATH}p{patient_id}_wk{week}/{night_id}{recorder}Fnorm.csv', chunksize=range_max, iterator=True, usecols=['MR','ML'])\n",
    "            data = data_itr.get_chunk()\n",
    "            print('data.shape: ', data.shape)\n",
    "            # print('data: ', data.describe())\n",
    "            \n",
    "            bites = np.zeros(data.shape[0], dtype=int)\n",
    "            data = data.dropna()\n",
    "            # print('data.shape after drop: ', data.shape)\n",
    "            print(f\"label bites, wk{week}, {night_id}{recorder}\")\n",
    "            for i in range(0, data.shape[0]):\n",
    "                if i < int(float(loc.iloc[0,0])) or (i > int(float(loc.iloc[0,1])) and i < int(float(loc.iloc[1,0]))) or (i > int(float(loc.iloc[1,1])) and i < int(float(loc.iloc[2,0]))) or i > int(float(loc.iloc[2,1])):\n",
    "                    bites[i] = 0\n",
    "                else:\n",
    "                    bites[i] = 1\n",
    "            bites = bites[data.index]\n",
    "            MR = data['MR'].values.tolist()\n",
    "            ML = data['ML'].values.tolist()\n",
    "            if (len(bites) != len(MR)):\n",
    "                print('/////////////////////////////////////')\n",
    "                print('len(bites): ', len(bites))\n",
    "                print('len(MR): ', len(MR))\n",
    "                print('/////////////////////////////////////')\n",
    "            # print('MR: ', MR[:10])\n",
    "            # print('ML: ', ML[:10])\n",
    "            MR = resample_signal(signal=MR, sampling_rate=original_sampling, selected_sampling=selected_sampling)\n",
    "            ML = resample_signal(signal=ML, sampling_rate=original_sampling, selected_sampling=selected_sampling)\n",
    "            bites = resample_signal(signal=bites, sampling_rate=original_sampling, selected_sampling=selected_sampling)\n",
    "            # df.loc[:,'Bites'] = bites\n",
    "            df_p = pd.DataFrame({'MR': MR, 'ML': ML, 'Bites': bites})\n",
    "            print('df_p.shape: ', df_p.shape)\n",
    "            print('df.shape: ', df.shape)\n",
    "            # print('df: ', df_p.describe())\n",
    "            \n",
    "            df = df.append(df_p, ignore_index=True)\n",
    "            print()\n",
    "        except Exception as e:\n",
    "            print(e)\n",
    "            print()\n",
    "            continue\n",
    "    \n",
    "    x = df.iloc[:,:2].copy()\n",
    "    y = df.iloc[:,-1].copy()\n",
    "    x = np.array(x.values.tolist())\n",
    "    y = np.array(y.values.tolist())\n",
    "    x_train, x_test, y_train, y_test = train_test_split(x, y, test_size=0.25) # Split data for test and training\n",
    "    SC = StandardScaler()\n",
    "    x_train = pd.DataFrame(SC.fit_transform(x_train))\n",
    "    x_test = pd.DataFrame(SC.transform(x_test))\n",
    "    print(f\"fit model p{patient_id}\")\n",
    "    patient_model.fit(x_train, y_train)\n",
    "    print(f\"save model p{patient_id}\")\n",
    "    patient_model.save_model(DATA_PATH + '/models/' +f\"p{patient_id}_model.json\")\n",
    "\n",
    "    print(\"fit general model\")\n",
    "    if first:\n",
    "        general_model.fit(x_train, y_train)\n",
    "        first = False\n",
    "    else:\n",
    "        general_model.fit(x_train, y_train, xgb_model=general_model)\n",
    "\n",
    "general_model.save_model(DATA_PATH + '/models/' + \"general_model.json\")\n",
    "print(\"save general model\")"
   ]
  }
 ],
 "metadata": {
  "kernelspec": {
   "display_name": "Python 3",
   "language": "python",
   "name": "python3"
  },
  "language_info": {
   "codemirror_mode": {
    "name": "ipython",
    "version": 3
   },
   "file_extension": ".py",
   "mimetype": "text/x-python",
   "name": "python",
   "nbconvert_exporter": "python",
   "pygments_lexer": "ipython3",
   "version": "3.10.6"
  }
 },
 "nbformat": 4,
 "nbformat_minor": 2
}
